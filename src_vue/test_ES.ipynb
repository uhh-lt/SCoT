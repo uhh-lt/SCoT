{
 "cells": [
  {
   "cell_type": "code",
   "execution_count": 2,
   "id": "f87f0b14",
   "metadata": {},
   "outputs": [
    {
     "name": "stdout",
     "output_type": "stream",
     "text": [
      "de70 localhost 9292\n"
     ]
    }
   ],
   "source": [
    "import json\n",
    "with open('./config/config_test_small_local.json') as config_file:\n",
    "    config = json.load(config_file)\n",
    "    \n",
    "# print(config)    \n",
    "collection_key = \"de70\"    \n",
    "es_host = config[\"collections_info_elastic\"][collection_key][\"es_host\"]\n",
    "es_port = config[\"collections_info_elastic\"][collection_key][\"es_port\"]\n",
    "es_index = config[\"collections_info_elastic\"][collection_key][\"es_index\"]\n",
    "print(es_index, es_host, es_port)"
   ]
  },
  {
   "cell_type": "code",
   "execution_count": 83,
   "id": "5bf9227c",
   "metadata": {},
   "outputs": [],
   "source": [
    "from datetime import datetime\n",
    "from elasticsearch import Elasticsearch\n",
    "import json\n",
    "\n",
    "\n",
    "class Documentdb:\n",
    "\n",
    "    def __init__(self, el_host, el_port):\n",
    "\n",
    "        try:\n",
    "            self.es = Elasticsearch([{'host': el_host, 'port': el_port}],\n",
    "                                   timeout=30, max_retries=3, retry_on_timeout=True)\n",
    "        except:\n",
    "            print(\"in documentdb init exception occured in es\")\n",
    "\n",
    "    def search(self, jo, bim, body, es_index=\"corona_news\"):\n",
    "        print(body)\n",
    "        self.es.indices.refresh(index=es_index)\n",
    "        res = self.es.search(index=es_index,\n",
    "                             body=body)\n",
    "        \n",
    "        # print(res)\n",
    "        return res\n",
    "\n",
    "documentdb = Documentdb(es_host, es_port)\n"
   ]
  },
  {
   "cell_type": "code",
   "execution_count": 103,
   "id": "fbb25264",
   "metadata": {},
   "outputs": [],
   "source": [
    "body ={\n",
    "     \"size\":10000,\n",
    "     \"query\": {\n",
    "         \"nested\": {\n",
    "             \"path\": \"jobim\",\n",
    "             \"query\": {\n",
    "                 \"bool\": {\n",
    "                     \"must\": [\n",
    "                         {\"match\": {\"jobim.jo\": jo}},\n",
    "                         {\"match\": {\"jobim.bim\": bim}}\n",
    "                     ]\n",
    "                 }\n",
    "             }\n",
    "         }\n",
    "     }\n",
    "\n",
    " }\n",
    "\n",
    "body_single={\n",
    "    \"size\" : 10000,\n",
    "    \"query\": {\n",
    "    \"bool\": {\n",
    "      \"must\": [\n",
    "        {\n",
    "          \"nested\": {\n",
    "            \"path\": \"jobim\",\n",
    "            \"query\": {\n",
    "                 \"bool\": {\n",
    "                     \"must\": [\n",
    "                         {\"match\": {\"jobim.jo\": jo}},\n",
    "                         {\"match\": {\"jobim.bim\": bim}},\n",
    "                     ]\n",
    "                 }\n",
    "             } \n",
    "          }\n",
    "        },\n",
    "        {\n",
    "          \"match\": {\n",
    "            \"time_slice\": time_slice\n",
    "          }\n",
    "        }\n",
    "      ]\n",
    "    }\n",
    "  }\n",
    " }\n",
    "\n",
    "\n",
    "body_multiple={\n",
    "    \"size\" : 10000,\n",
    "    \"query\": {\n",
    "    \"bool\": {\n",
    "      \"must\": [\n",
    "        {\n",
    "          \"nested\": {\n",
    "            \"path\": \"jobim\",\n",
    "            \"query\": {\n",
    "                 \"bool\": {\n",
    "                     \"must\": [\n",
    "                         {\"match\": {\"jobim.jo\": jo}},\n",
    "                         {\"match\": {\"jobim.bim\": bim}},\n",
    "                     ]\n",
    "                 }\n",
    "             } \n",
    "          }\n",
    "        },\n",
    "        {\n",
    "          \"bool\": {\n",
    "              \"should\":[{\"match\":{\"time_slice\":time_slice}} for time_slice in time_slices]\n",
    "\n",
    "            }\n",
    "        }\n",
    "      ]\n",
    "    }\n",
    "  }\n",
    " }\n",
    "\n"
   ]
  },
  {
   "cell_type": "code",
   "execution_count": 102,
   "id": "40ee5362",
   "metadata": {},
   "outputs": [
    {
     "data": {
      "text/plain": [
       "[{'match': {'time_slice': '1995-1999'}}]"
      ]
     },
     "execution_count": 102,
     "metadata": {},
     "output_type": "execute_result"
    }
   ],
   "source": [
    "time_slices = ['1995-1999']\n",
    "\n",
    "[{\"match\":{\"time_slice\":time_slice}} for time_slice in time_slices]\n"
   ]
  },
  {
   "cell_type": "code",
   "execution_count": 88,
   "id": "a14a86e3",
   "metadata": {},
   "outputs": [],
   "source": [
    "data = {'jo': 'Krise#NN', 'bim': 'von#APPR#-NK', 'time_slice':'2000-2002',\n",
    "        'collection_key': collection_key}\n",
    "data = {'jo': 'Krise#NN', 'bim': 'von#APPR#-NK', 'time_slice':'1995-1999',\n",
    "        'collection_key': collection_key}\n",
    "data = {'jo': 'Krise#NN', 'bim': 'von#APPR#-NK', 'time_slice':'2003-2006',\n",
    "        'collection_key': collection_key}\n"
   ]
  },
  {
   "cell_type": "code",
   "execution_count": 104,
   "id": "f8f95a49",
   "metadata": {},
   "outputs": [
    {
     "name": "stdout",
     "output_type": "stream",
     "text": [
      "{'size': 10000, 'query': {'bool': {'must': [{'nested': {'path': 'jobim', 'query': {'bool': {'must': [{'match': {'jobim.jo': 'Krise#NN'}}, {'match': {'jobim.bim': 'von#APPR#-NK'}}]}}}}, {'bool': {'should': [{'match': {'time_slice': '1995-1999'}}]}}]}}}\n",
      "hits:484\n",
      "dates: {'1995-1999'}\n"
     ]
    }
   ],
   "source": [
    "jo = data[\"jo\"]\n",
    "bim = data[\"bim\"]\n",
    "time_slice = data[\"time_slice\"]\n",
    "\n",
    "ret = []\n",
    "res = documentdb.search(jo, bim, body_multiple, es_index)\n",
    "ret_set = set()\n",
    "print(\"hits:\"+str(len(res[\"hits\"][\"hits\"])))\n",
    "# print(res)\n",
    "dates = set()\n",
    "for hit in res[\"hits\"][\"hits\"]:\n",
    "#     print(hit)\n",
    "    text = hit[\"_source\"][\"date\"][:10] + \": \" \\\n",
    "           + hit[\"_source\"][\"sentence\"] + \\\n",
    "           \" [\" + hit[\"_source\"][\"source\"] + \"] \"\n",
    "    ret_set.add(text)\n",
    "    dates.add(hit[\"_source\"][\"date\"][:10])\n",
    "\n",
    "ret_list = list(ret_set)\n",
    "ret_list.sort()\n",
    "# print(ret_list)\n",
    "if len(ret_list) > 0:\n",
    "    for text in ret_list:\n",
    "        ret.append({\"doc\": text})\n",
    "else:\n",
    "    ret.append({\"doc\": \"No Results.\"})\n",
    "\n",
    "\n",
    "# print({\"docs\": ret})\n",
    "print(\"dates:\", dates)"
   ]
  },
  {
   "cell_type": "code",
   "execution_count": null,
   "id": "ae3dbd67",
   "metadata": {},
   "outputs": [],
   "source": [
    "{'_index': 'de70', '_type': '_doc', '_id': '12292050', '_score': 14.173796, \n",
    " '_source': {'source': 'DIE WELT 2000', \n",
    "             'sentence': 'Das Wort von der Krise in der Kunst wird laut. Wie sehen Sie das?', \n",
    "             'date': '2000-2002', 'time_slice': '2000-2002', \n",
    "             'jobim': [{'jo': 'Wort#NN', 'bim': 'der#ART#NK'}, {'jo': 'Wort#NN', 'bim': 'von#APPR#PG'}, \n",
    "                       {'jo': 'Wort#NN', 'bim': 'werden#VA#-SB'}, {'jo': 'Wort#NN', 'bim': 'sehen#VV#-SB'}, \n",
    "                       {'jo': 'von#APPR', 'bim': 'Wort#NN#-PG'}, {'jo': 'von#APPR', 'bim': 'Krise#NN#NK'}, \n",
    "                       {'jo': 'der#ART', 'bim': 'Krise#NN#-NK'}, {'jo': 'Krise#NN', 'bim': 'der#ART#NK'}, \n",
    "                       {'jo': 'Krise#NN', 'bim': 'von#APPR#-NK'}, {'jo': 'Krise#NN', 'bim': 'in#APPR#MNR'}, \n",
    "                       {'jo': 'in#APPR', 'bim': 'Krise#NN#-MNR'}, {'jo': 'in#APPR', 'bim': 'Kunst#NN#NK'}, \n",
    "                       {'jo': 'der#ART', 'bim': 'Kunst#NN#-NK'}, {'jo': 'Kunst#NN', 'bim': 'der#ART#NK'}, \n",
    "                       {'jo': 'Kunst#NN', 'bim': 'in#APPR#-NK'}, {'jo': 'werden#VA', 'bim': 'Wort#NN#SB'}, \n",
    "                       {'jo': 'werden#VA', 'bim': 'laut#ADJD#PD'}, {'jo': 'werden#VA', 'bim': 'sehen#VV#CJ'}, \n",
    "                       {'jo': 'laut#ADJD', 'bim': 'werden#VA#-PD'}, {'jo': 'laut#ADJD', 'bim': '--#$.#--'}, \n",
    "                       {'jo': '--#$.', 'bim': 'laut#ADJD#---'}, {'jo': 'wie#PWAV', 'bim': 'sehen#VV#-MO'}, \n",
    "                       {'jo': 'sehen#VV', 'bim': 'Wort#NN#SB'}, {'jo': 'sehen#VV', 'bim': 'der#PDS#OA'}, \n",
    "                       {'jo': 'sehen#VV', 'bim': 'sie#PPER#SB'}, {'jo': 'sehen#VV', 'bim': 'werden#VA#-CJ'}, \n",
    "                       {'jo': 'sehen#VV', 'bim': 'wie#PWAV#MO'}, {'jo': 'sie#PPER', 'bim': 'sehen#VV#-SB'}, \n",
    "                       {'jo': 'der#PDS', 'bim': 'sehen#VV#-OA'}, {'jo': 'der#PDS', 'bim': '--#$.#--'}, \n",
    "                       {'jo': '--#$.', 'bim': 'der#PDS#---'}]}}"
   ]
  },
  {
   "cell_type": "code",
   "execution_count": null,
   "id": "febbcff9",
   "metadata": {},
   "outputs": [],
   "source": []
  }
 ],
 "metadata": {
  "kernelspec": {
   "display_name": "Python 3 (ipykernel)",
   "language": "python",
   "name": "python3"
  },
  "language_info": {
   "codemirror_mode": {
    "name": "ipython",
    "version": 3
   },
   "file_extension": ".py",
   "mimetype": "text/x-python",
   "name": "python",
   "nbconvert_exporter": "python",
   "pygments_lexer": "ipython3",
   "version": "3.8.13"
  }
 },
 "nbformat": 4,
 "nbformat_minor": 5
}
