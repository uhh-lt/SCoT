{
 "cells": [
  {
   "cell_type": "markdown",
   "metadata": {},
   "source": [
    "# scot.py rest test   \n",
    "run scot first\n"
   ]
  },
  {
   "cell_type": "code",
   "execution_count": 1,
   "metadata": {},
   "outputs": [],
   "source": [
    "import requests\n",
    "baseUrl=\"http://localhost:5000/api/collections\"\n",
    "db = \"/en_books\"\n",
    "db2= \"/fi_news\""
   ]
  },
  {
   "cell_type": "code",
   "execution_count": 2,
   "metadata": {},
   "outputs": [
    {
     "data": {
      "text/plain": [
       "'{\"English Books\": {\"key\": \"en_books\", \"target\": \"crisis/NN\", \"p\": 100, \"d\": 30.0, \"info\": \"English Google Books, 1520-2008.\"}, \"German News 70m Dep\": {\"key\": \"de70mlcc\", \"target\": \"Krise#NN\", \"p\": 100, \"d\": 15.0, \"info\": \"German Online News - 70 Million Random Sentences, 1995-2010 \"}, \"Finnish News Dep\": {\"key\": \"fi_news_dep\", \"target\": \"Yksi#NUM\", \"p\": 100, \"d\": 30.0, \"info\": \"Various Finnish Online News - 14 Million Sentences, \"}}'"
      ]
     },
     "execution_count": 2,
     "metadata": {},
     "output_type": "execute_result"
    }
   ],
   "source": [
    "# test databaseInfo\n",
    "req = requests.get(baseUrl)\n",
    "req.text"
   ]
  },
  {
   "cell_type": "code",
   "execution_count": 3,
   "metadata": {},
   "outputs": [
    {
     "data": {
      "text/plain": [
       "'[{\"value\": 1520, \"text\": \"1520\"}, {\"value\": 1909, \"text\": \"1909\"}, {\"value\": 1954, \"text\": \"1954\"}, {\"value\": 1973, \"text\": \"1973\"}, {\"value\": 1987, \"text\": \"1987\"}, {\"value\": 1996, \"text\": \"1996\"}, {\"value\": 2002, \"text\": \"2002\"}, {\"value\": 2006, \"text\": \"2006\"}]'"
      ]
     },
     "execution_count": 3,
     "metadata": {},
     "output_type": "execute_result"
    }
   ],
   "source": [
    "req = requests.get(baseUrl+db+\"/start_years\")\n",
    "req.text"
   ]
  },
  {
   "cell_type": "code",
   "execution_count": 4,
   "metadata": {},
   "outputs": [
    {
     "data": {
      "text/plain": [
       "'[{\"value\": 1520, \"text\": \"1520\"}, {\"value\": 1909, \"text\": \"1909\"}, {\"value\": 1954, \"text\": \"1954\"}, {\"value\": 1973, \"text\": \"1973\"}, {\"value\": 1987, \"text\": \"1987\"}, {\"value\": 1996, \"text\": \"1996\"}, {\"value\": 2002, \"text\": \"2002\"}, {\"value\": 2006, \"text\": \"2006\"}]'"
      ]
     },
     "execution_count": 4,
     "metadata": {},
     "output_type": "execute_result"
    }
   ],
   "source": [
    "req = requests.get(baseUrl+db2+\"/start_years\")\n",
    "req.text"
   ]
  },
  {
   "cell_type": "code",
   "execution_count": 5,
   "metadata": {},
   "outputs": [
    {
     "data": {
      "text/plain": [
       "'[{\"value\": 1908, \"text\": \"1908\"}, {\"value\": 1953, \"text\": \"1953\"}, {\"value\": 1972, \"text\": \"1972\"}, {\"value\": 1986, \"text\": \"1986\"}, {\"value\": 1995, \"text\": \"1995\"}, {\"value\": 2001, \"text\": \"2001\"}, {\"value\": 2005, \"text\": \"2005\"}, {\"value\": 2008, \"text\": \"2008\"}]'"
      ]
     },
     "execution_count": 5,
     "metadata": {},
     "output_type": "execute_result"
    }
   ],
   "source": [
    "req = requests.get(baseUrl+db+\"/end_years\")\n",
    "req.text"
   ]
  },
  {
   "cell_type": "code",
   "execution_count": 6,
   "metadata": {},
   "outputs": [
    {
     "data": {
      "text/plain": [
       "'[{\"value\": 1908, \"text\": \"1908\"}, {\"value\": 1953, \"text\": \"1953\"}, {\"value\": 1972, \"text\": \"1972\"}, {\"value\": 1986, \"text\": \"1986\"}, {\"value\": 1995, \"text\": \"1995\"}, {\"value\": 2001, \"text\": \"2001\"}, {\"value\": 2005, \"text\": \"2005\"}, {\"value\": 2008, \"text\": \"2008\"}]'"
      ]
     },
     "execution_count": 6,
     "metadata": {},
     "output_type": "execute_result"
    }
   ],
   "source": [
    "req = requests.get(baseUrl+db2+\"/end_years\")\n",
    "req.text"
   ]
  },
  {
   "cell_type": "code",
   "execution_count": 7,
   "metadata": {},
   "outputs": [
    {
     "data": {
      "text/plain": [
       "'[1, 2, 3, 4, 5, 6, 7, 8]'"
      ]
     },
     "execution_count": 7,
     "metadata": {},
     "output_type": "execute_result"
    }
   ],
   "source": [
    "req = requests.get(baseUrl+db+\"/interval/1520/2008\")\n",
    "req.text"
   ]
  },
  {
   "cell_type": "code",
   "execution_count": 8,
   "metadata": {},
   "outputs": [
    {
     "data": {
      "text/plain": [
       "'[1, 2, 3, 4, 5, 6, 7]'"
      ]
     },
     "execution_count": 8,
     "metadata": {},
     "output_type": "execute_result"
    }
   ],
   "source": [
    "req = requests.get(baseUrl+db2+\"/interval/1520/2005\")\n",
    "req.text"
   ]
  },
  {
   "cell_type": "code",
   "execution_count": 9,
   "metadata": {},
   "outputs": [
    {
     "data": {
      "text/plain": [
       "'<!DOCTYPE HTML PUBLIC \"-//W3C//DTD HTML 3.2 Final//EN\">\\n<title>404 Not Found</title>\\n<h1>Not Found</h1>\\n<p>The requested URL was not found on the server. If you entered the URL manually please check your spelling and try again.</p>\\n'"
      ]
     },
     "execution_count": 9,
     "metadata": {},
     "output_type": "execute_result"
    }
   ],
   "source": [
    "# '/<string:db>/sense_graph/<path:target_word>/<int:start_year>/<int:end_year>/<int:direct_neighbours>/<int:density>\n",
    "# --> REFACTOR API - WORD SEEMS TO REQUIRE /NN ENDING\n",
    "req = requests.get(baseUrl+db+\"/sense_graph/happiness/NN/1520/1908/1/0\")\n",
    "req.text"
   ]
  },
  {
   "cell_type": "code",
   "execution_count": 11,
   "metadata": {},
   "outputs": [
    {
     "data": {
      "text/plain": [
       "'<!DOCTYPE HTML PUBLIC \"-//W3C//DTD HTML 3.2 Final//EN\">\\n<title>404 Not Found</title>\\n<h1>Not Found</h1>\\n<p>The requested URL was not found on the server. If you entered the URL manually please check your spelling and try again.</p>\\n'"
      ]
     },
     "execution_count": 11,
     "metadata": {},
     "output_type": "execute_result"
    }
   ],
   "source": [
    "# '/<string:db>/sense_graph/<path:target_word>/<int:start_year>/<int:end_year>/<int:direct_neighbours>/<int:density>\n",
    "# --> REFACTOR API - WORD SEEMS TO REQUIRE /NN ENDING\n",
    "req = requests.get(baseUrl+db2+\"/sense_graph/happiness/NN/1520/1908/1/0\")\n",
    "req.text"
   ]
  },
  {
   "cell_type": "code",
   "execution_count": null,
   "metadata": {},
   "outputs": [],
   "source": []
  }
 ],
 "metadata": {
  "kernelspec": {
   "display_name": "Python 3 (ipykernel)",
   "language": "python",
   "name": "python3"
  },
  "language_info": {
   "codemirror_mode": {
    "name": "ipython",
    "version": 3
   },
   "file_extension": ".py",
   "mimetype": "text/x-python",
   "name": "python",
   "nbconvert_exporter": "python",
   "pygments_lexer": "ipython3",
   "version": "3.11.5"
  }
 },
 "nbformat": 4,
 "nbformat_minor": 4
}
